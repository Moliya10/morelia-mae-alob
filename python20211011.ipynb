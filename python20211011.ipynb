{
  "nbformat": 4,
  "nbformat_minor": 0,
  "metadata": {
    "colab": {
      "name": "python20211011.ipynb",
      "provenance": [],
      "include_colab_link": true
    },
    "kernelspec": {
      "name": "python3",
      "display_name": "Python 3"
    },
    "language_info": {
      "name": "python"
    }
  },
  "cells": [
    {
      "cell_type": "markdown",
      "metadata": {
        "id": "view-in-github",
        "colab_type": "text"
      },
      "source": [
        "<a href=\"https://colab.research.google.com/github/Moliya10/morelia-mae-alob/blob/main/python20211011.ipynb\" target=\"_parent\"><img src=\"https://colab.research.google.com/assets/colab-badge.svg\" alt=\"Open In Colab\"/></a>"
      ]
    },
    {
      "cell_type": "markdown",
      "metadata": {
        "id": "ap5vxORM2n0S"
      },
      "source": [
        "# python Data Type\n",
        "\n",
        "Date: 20211011\n",
        "\n",
        "Name: morelia mae alob"
      ]
    },
    {
      "cell_type": "markdown",
      "metadata": {
        "id": "n-ioHh-8K7j4"
      },
      "source": [
        "# 1_Numerics Data Type"
      ]
    },
    {
      "cell_type": "markdown",
      "metadata": {
        "id": "mOClob_U5ywc"
      },
      "source": [
        "# Arithmetic operators"
      ]
    },
    {
      "cell_type": "code",
      "metadata": {
        "colab": {
          "base_uri": "https://localhost:8080/"
        },
        "id": "o8wCb6NC1l3W",
        "outputId": "1e9c5027-c4a7-4a5f-dfee-4d1ffe199ba7"
      },
      "source": [
        "a = 17 / 3\n",
        "a"
      ],
      "execution_count": 39,
      "outputs": [
        {
          "output_type": "execute_result",
          "data": {
            "text/plain": [
              "5.666666666666667"
            ]
          },
          "metadata": {},
          "execution_count": 39
        }
      ]
    },
    {
      "cell_type": "code",
      "metadata": {
        "colab": {
          "base_uri": "https://localhost:8080/"
        },
        "id": "jTB7zKuA25k5",
        "outputId": "a66ab6f1-c60a-45c3-967c-ff1a3b14e424"
      },
      "source": [
        "b = 17 // 3\n",
        "b"
      ],
      "execution_count": 40,
      "outputs": [
        {
          "output_type": "execute_result",
          "data": {
            "text/plain": [
              "5"
            ]
          },
          "metadata": {},
          "execution_count": 40
        }
      ]
    },
    {
      "cell_type": "code",
      "metadata": {
        "colab": {
          "base_uri": "https://localhost:8080/"
        },
        "id": "wP3VEYdn3NyK",
        "outputId": "ea52deac-fc59-4e19-d189-fb63d62dead7"
      },
      "source": [
        "c = 17 % 3\n",
        "c"
      ],
      "execution_count": null,
      "outputs": [
        {
          "output_type": "execute_result",
          "data": {
            "text/plain": [
              "2"
            ]
          },
          "metadata": {},
          "execution_count": 5
        }
      ]
    },
    {
      "cell_type": "markdown",
      "metadata": {
        "id": "6Dpv-nAU3RDV"
      },
      "source": [
        "17 = 5*3 + 2(remainder)"
      ]
    },
    {
      "cell_type": "markdown",
      "metadata": {
        "id": "NpJNHJ37532n"
      },
      "source": [
        "# Logical operators"
      ]
    },
    {
      "cell_type": "code",
      "metadata": {
        "colab": {
          "base_uri": "https://localhost:8080/"
        },
        "id": "6-xqXL3L3Ns5",
        "outputId": "e5d4410b-6054-467a-d5a3-7e05e8d30754"
      },
      "source": [
        "x = 5\n",
        "print(x > 9 and x < 18)"
      ],
      "execution_count": 57,
      "outputs": [
        {
          "output_type": "stream",
          "name": "stdout",
          "text": [
            "False\n"
          ]
        }
      ]
    },
    {
      "cell_type": "markdown",
      "metadata": {
        "id": "UlJexx2y6ChW"
      },
      "source": [
        "x = 5   ==>  [x > 3] true\n",
        "\n",
        "[x < 10] TRUE\n",
        "\n",
        "[x > 3] and [x < 10] ==> True and true ==> ture  "
      ]
    },
    {
      "cell_type": "code",
      "metadata": {
        "colab": {
          "base_uri": "https://localhost:8080/"
        },
        "id": "hKjIyLaf6G-S",
        "outputId": "85c2b559-b407-45c5-86d6-2e89e1c4d9e2"
      },
      "source": [
        "x = 5\n",
        "print(x > 9 and x > 18)"
      ],
      "execution_count": 56,
      "outputs": [
        {
          "output_type": "stream",
          "name": "stdout",
          "text": [
            "False\n"
          ]
        }
      ]
    },
    {
      "cell_type": "markdown",
      "metadata": {
        "id": "oNdqGl_f7B0G"
      },
      "source": [
        "x = 5  ==> [x > 9] Ture |  [x>18] False \n",
        "\n",
        "[True] and [False] ==> False \n",
        "\n",
        "\n",
        "[True] and [True] ==> True\n",
        "\n",
        "[True] and [False] ==> False \n",
        "\n",
        "[False] and [True] ==> False\n",
        "\n",
        "[False] and [False] ==> False"
      ]
    },
    {
      "cell_type": "code",
      "metadata": {
        "colab": {
          "base_uri": "https://localhost:8080/"
        },
        "id": "rlaCeIR125dY",
        "outputId": "ae3f29ce-ab48-49fd-f8bb-cae864f3df79"
      },
      "source": [
        "x = 5\n",
        "print(x > 9 or x > 18)"
      ],
      "execution_count": 55,
      "outputs": [
        {
          "output_type": "stream",
          "name": "stdout",
          "text": [
            "False\n"
          ]
        }
      ]
    },
    {
      "cell_type": "markdown",
      "metadata": {
        "id": "qklziw159iwl"
      },
      "source": [
        "[True] or [True] ==> True\n",
        "\n",
        "[True] or [False] ==> True\n",
        "\n",
        "[False] or [True] ==> True\n",
        "\n",
        "[False] or [False] ==> False"
      ]
    },
    {
      "cell_type": "markdown",
      "metadata": {
        "id": "KeNxxIWC96BE"
      },
      "source": [
        "# Built-in functions\n",
        "\n",
        "Python has many Built-in functions"
      ]
    },
    {
      "cell_type": "code",
      "metadata": {
        "colab": {
          "base_uri": "https://localhost:8080/",
          "height": 35
        },
        "id": "fQrXfNhs-bha",
        "outputId": "88af42a8-9c17-438c-9cf7-047e0dd11c79"
      },
      "source": [
        "bin(3)"
      ],
      "execution_count": 54,
      "outputs": [
        {
          "output_type": "execute_result",
          "data": {
            "application/vnd.google.colaboratory.intrinsic+json": {
              "type": "string"
            },
            "text/plain": [
              "'0b11'"
            ]
          },
          "metadata": {},
          "execution_count": 54
        }
      ]
    },
    {
      "cell_type": "markdown",
      "metadata": {
        "id": "JNRGpdrm-gPT"
      },
      "source": [
        "decimal 3  ==> binary \n",
        "\n",
        "0b11 = 1*2 + 1 = 3\n",
        "\n",
        "ob111 =? \n",
        "\n",
        "0b111 = 1* 2^2 + 1*2 +1 =7"
      ]
    },
    {
      "cell_type": "code",
      "metadata": {
        "colab": {
          "base_uri": "https://localhost:8080/"
        },
        "id": "BrVDpRkL-uMj",
        "outputId": "06931ea7-b9ce-4ba1-9c24-3bad05009259"
      },
      "source": [
        "int(0b111)"
      ],
      "execution_count": 53,
      "outputs": [
        {
          "output_type": "execute_result",
          "data": {
            "text/plain": [
              "7"
            ]
          },
          "metadata": {},
          "execution_count": 53
        }
      ]
    },
    {
      "cell_type": "markdown",
      "metadata": {
        "id": "evomhpGJDY-2"
      },
      "source": [
        "# 2_string data type"
      ]
    },
    {
      "cell_type": "code",
      "metadata": {
        "colab": {
          "base_uri": "https://localhost:8080/",
          "height": 35
        },
        "id": "4HQV_41cDccI",
        "outputId": "c47d0d96-b27d-4d33-b9b2-3d69e5f209f5"
      },
      "source": [
        "str3 = 'allows embedded \"double\" quotes'\n",
        "str3"
      ],
      "execution_count": null,
      "outputs": [
        {
          "output_type": "execute_result",
          "data": {
            "application/vnd.google.colaboratory.intrinsic+json": {
              "type": "string"
            },
            "text/plain": [
              "'allows embedded \"double\" quotes'"
            ]
          },
          "metadata": {},
          "execution_count": 12
        }
      ]
    },
    {
      "cell_type": "markdown",
      "metadata": {
        "id": "8T9SYUxOE_Wm"
      },
      "source": [
        "## operation on strings\n",
        "\n",
        "index "
      ]
    },
    {
      "cell_type": "code",
      "metadata": {
        "colab": {
          "base_uri": "https://localhost:8080/"
        },
        "id": "qtuw189UDlt7",
        "outputId": "ea73a46d-9988-48cf-aa34-7e92f8a2e59d"
      },
      "source": [
        "var1 = 'Hello crush!'\n",
        "\n",
        "print(\"var1[1]: \", var1[1])"
      ],
      "execution_count": 52,
      "outputs": [
        {
          "output_type": "stream",
          "name": "stdout",
          "text": [
            "var1[1]:  e\n"
          ]
        }
      ]
    },
    {
      "cell_type": "markdown",
      "metadata": {
        "id": "o4DS4XgF_OX1"
      },
      "source": [
        "var1 = 'Hello crush!'\n",
        "\n",
        "var1[0] ==> H\n",
        "\n",
        "var1[1] ==> e\n",
        "\n",
        "and so on"
      ]
    },
    {
      "cell_type": "markdown",
      "metadata": {
        "id": "ZtwTzQlrFDb8"
      },
      "source": [
        "## slice operation"
      ]
    },
    {
      "cell_type": "code",
      "metadata": {
        "colab": {
          "base_uri": "https://localhost:8080/"
        },
        "id": "bV0jsobyEHPq",
        "outputId": "b5f5a17e-8878-4503-c3bd-fc529b9a4535"
      },
      "source": [
        "b = \"Hello, life!\"\n",
        "#print(b[2:5])\n",
        "#print(b[:6])\n",
        "#print(b[2:])\n",
        "print(b[-5:-2])"
      ],
      "execution_count": 51,
      "outputs": [
        {
          "output_type": "stream",
          "name": "stdout",
          "text": [
            "lif\n"
          ]
        }
      ]
    },
    {
      "cell_type": "markdown",
      "metadata": {
        "id": "Qz4VT0GOFxLa"
      },
      "source": [
        "## Python string method\n",
        "\n",
        "https://www.w3schools.com/python/python_strings_methods.asp"
      ]
    },
    {
      "cell_type": "markdown",
      "metadata": {
        "id": "mVI-UTMFGEkB"
      },
      "source": [
        "## capitalize()\tConverts the first character to upper case"
      ]
    },
    {
      "cell_type": "code",
      "metadata": {
        "colab": {
          "base_uri": "https://localhost:8080/"
        },
        "id": "_WCxSaocGHQv",
        "outputId": "c436e4cc-41b5-49f1-996e-31fb5eae2dfa"
      },
      "source": [
        "txt = \"hello,  welcome to my life.\"\n",
        "\n",
        "x = txt.capitalize()\n",
        "\n",
        "print (x)"
      ],
      "execution_count": 50,
      "outputs": [
        {
          "output_type": "stream",
          "name": "stdout",
          "text": [
            "Hello,  welcome to my life.\n"
          ]
        }
      ]
    },
    {
      "cell_type": "markdown",
      "metadata": {
        "id": "Md8mDAxjHCsE"
      },
      "source": [
        "## Python String join() Method\n",
        "\n"
      ]
    },
    {
      "cell_type": "code",
      "metadata": {
        "colab": {
          "base_uri": "https://localhost:8080/"
        },
        "id": "UWA-gfVNHM0K",
        "outputId": "6fc42e50-ace9-4a94-bcb8-231f97e4278a"
      },
      "source": [
        "myTuple = (\"morelia\", \"mae\", \"alob\")\n",
        "\n",
        "x = \"#\".join(myTuple)\n",
        "\n",
        "print(x)"
      ],
      "execution_count": 49,
      "outputs": [
        {
          "output_type": "stream",
          "name": "stdout",
          "text": [
            "morelia#mae#alob\n"
          ]
        }
      ]
    },
    {
      "cell_type": "code",
      "metadata": {
        "colab": {
          "base_uri": "https://localhost:8080/"
        },
        "id": "PENmOu5cHjZy",
        "outputId": "dfa802cd-d5c5-4b2c-a8c1-d29edd681b47"
      },
      "source": [
        "txt = \"apple\"\n",
        "\n",
        "x = txt.ljust(20)\n",
        "\n",
        "print(x, \"is one of  my favorite fruit.\")"
      ],
      "execution_count": 46,
      "outputs": [
        {
          "output_type": "stream",
          "name": "stdout",
          "text": [
            "apple                is one of  my favorite fruit.\n"
          ]
        }
      ]
    },
    {
      "cell_type": "code",
      "metadata": {
        "colab": {
          "base_uri": "https://localhost:8080/"
        },
        "id": "8sBOwnsrIAwD",
        "outputId": "90a38fee-473d-4a5c-ac4e-9fa1360a793e"
      },
      "source": [
        "txt = \"     apple     \"\n",
        "\n",
        "x = txt.lstrip()\n",
        "\n",
        "print(\"is one of my favorite fruits\", x, \"is my favorite\")"
      ],
      "execution_count": 47,
      "outputs": [
        {
          "output_type": "stream",
          "name": "stdout",
          "text": [
            "is one of my favorite fruits apple      is my favorite\n"
          ]
        }
      ]
    },
    {
      "cell_type": "markdown",
      "metadata": {
        "id": "UeDlPHiHKy80"
      },
      "source": [
        "# 3_list data type"
      ]
    },
    {
      "cell_type": "code",
      "metadata": {
        "colab": {
          "base_uri": "https://localhost:8080/"
        },
        "id": "nt2FXhktLBDR",
        "outputId": "549f97ed-0d81-4ea3-e751-4085f6b955d6"
      },
      "source": [
        "list1 = [18, 30, 11, 9, 29, 95]\n",
        "\n",
        "list1[1]"
      ],
      "execution_count": 45,
      "outputs": [
        {
          "output_type": "execute_result",
          "data": {
            "text/plain": [
              "30"
            ]
          },
          "metadata": {},
          "execution_count": 45
        }
      ]
    },
    {
      "cell_type": "markdown",
      "metadata": {
        "id": "iL86F_fYLIzJ"
      },
      "source": [
        "list1 = [18, 30, 11, 9, 29, 95]\n",
        "\n",
        "index of list1\n",
        "\n",
        "list1[0] => 18\n",
        "\n",
        "list1[1] => 30\n",
        "\n",
        "and so on"
      ]
    },
    {
      "cell_type": "markdown",
      "metadata": {
        "id": "f3cFTOOtLzq4"
      },
      "source": [
        "## slice operation"
      ]
    },
    {
      "cell_type": "code",
      "metadata": {
        "colab": {
          "base_uri": "https://localhost:8080/"
        },
        "id": "UbrGXXctLV-O",
        "outputId": "733d0511-e11c-4868-c7bb-6c4a8ac0bddf"
      },
      "source": [
        "list1[1:3]"
      ],
      "execution_count": 48,
      "outputs": [
        {
          "output_type": "execute_result",
          "data": {
            "text/plain": [
              "[30, 11]"
            ]
          },
          "metadata": {},
          "execution_count": 48
        }
      ]
    },
    {
      "cell_type": "markdown",
      "metadata": {
        "id": "UpO0-IjvLkoH"
      },
      "source": [
        "## list built-in functions"
      ]
    },
    {
      "cell_type": "code",
      "metadata": {
        "colab": {
          "base_uri": "https://localhost:8080/"
        },
        "id": "vOLOY_1jLjZi",
        "outputId": "a7e9e767-376e-4c5b-84e5-37381e99fbe2"
      },
      "source": [
        "len(list1)"
      ],
      "execution_count": 42,
      "outputs": [
        {
          "output_type": "execute_result",
          "data": {
            "text/plain": [
              "6"
            ]
          },
          "metadata": {},
          "execution_count": 42
        }
      ]
    },
    {
      "cell_type": "code",
      "metadata": {
        "colab": {
          "base_uri": "https://localhost:8080/"
        },
        "id": "7iGhV6Y5LsET",
        "outputId": "e82826ca-7f25-4b94-ccd6-6d38f1c5ae42"
      },
      "source": [
        "max(list1)"
      ],
      "execution_count": 43,
      "outputs": [
        {
          "output_type": "execute_result",
          "data": {
            "text/plain": [
              "95"
            ]
          },
          "metadata": {},
          "execution_count": 43
        }
      ]
    },
    {
      "cell_type": "code",
      "metadata": {
        "colab": {
          "base_uri": "https://localhost:8080/"
        },
        "id": "KApdVP0MLtRm",
        "outputId": "42236cc0-18ae-4b0e-c35b-b52731cd2d10"
      },
      "source": [
        "min(list1)"
      ],
      "execution_count": 44,
      "outputs": [
        {
          "output_type": "execute_result",
          "data": {
            "text/plain": [
              "9"
            ]
          },
          "metadata": {},
          "execution_count": 44
        }
      ]
    },
    {
      "cell_type": "markdown",
      "metadata": {
        "id": "MgNkLOMVNEWg"
      },
      "source": [
        "## 4_dict data type\n",
        "\n",
        "\n",
        "dict = {'Name': 'morelia mae alob', 'Age': 20, 'Class': 'First'}\n",
        "\n",
        "==> 3 key-value pairs\n",
        "\n",
        "'Name': 'morelia mae alob'  ==> Name: key , morelia mae alob : value\n",
        "\n",
        "'Age': 20\n",
        "\n",
        "'Class': 'First'\n",
        "\n",
        "\n",
        "seperated by ,\n",
        "\n",
        "\n",
        "many key-value pairs"
      ]
    },
    {
      "cell_type": "code",
      "metadata": {
        "colab": {
          "base_uri": "https://localhost:8080/"
        },
        "id": "wqvGpxJ9Nlol",
        "outputId": "303ff79c-8bc8-4097-8639-cf02dcacebd2"
      },
      "source": [
        "dict = {'Name': 'morelia mae alob', 'Age': 20, 'Class': 'First'}\n",
        "print(\"dict['Age']: \", dict['Age'])"
      ],
      "execution_count": 41,
      "outputs": [
        {
          "output_type": "stream",
          "name": "stdout",
          "text": [
            "dict['Age']:  20\n"
          ]
        }
      ]
    }
  ]
}